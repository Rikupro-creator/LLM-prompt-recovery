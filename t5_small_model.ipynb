{
  "metadata": {
    "kernelspec": {
      "language": "python",
      "display_name": "Python 3",
      "name": "python3"
    },
    "language_info": {
      "name": "python",
      "version": "3.10.13",
      "mimetype": "text/x-python",
      "codemirror_mode": {
        "name": "ipython",
        "version": 3
      },
      "pygments_lexer": "ipython3",
      "nbconvert_exporter": "python",
      "file_extension": ".py"
    },
    "kaggle": {
      "accelerator": "none",
      "dataSources": [
        {
          "sourceId": 67121,
          "databundleVersionId": 7806901,
          "sourceType": "competition"
        },
        {
          "sourceId": 4302,
          "sourceType": "modelInstanceVersion",
          "modelInstanceId": 3097
        },
        {
          "sourceId": 4250,
          "sourceType": "modelInstanceVersion",
          "isSourceIdPinned": true,
          "modelInstanceId": 3046
        }
      ],
      "dockerImageVersionId": 30664,
      "isInternetEnabled": false,
      "language": "python",
      "sourceType": "notebook",
      "isGpuEnabled": false
    },
    "colab": {
      "name": "t5_small model",
      "provenance": [],
      "include_colab_link": true
    }
  },
  "nbformat_minor": 0,
  "nbformat": 4,
  "cells": [
    {
      "cell_type": "markdown",
      "metadata": {
        "id": "view-in-github",
        "colab_type": "text"
      },
      "source": [
        "<a href=\"https://colab.research.google.com/github/Rikupro-creator/LLM-prompt-recovery/blob/main/t5_small_model.ipynb\" target=\"_parent\"><img src=\"https://colab.research.google.com/assets/colab-badge.svg\" alt=\"Open In Colab\"/></a>"
      ]
    },
    {
      "source": [
        "\n",
        "import os\n",
        "import sys\n",
        "from tempfile import NamedTemporaryFile\n",
        "from urllib.request import urlopen\n",
        "from urllib.parse import unquote, urlparse\n",
        "from urllib.error import HTTPError\n",
        "from zipfile import ZipFile\n",
        "import tarfile\n",
        "import shutil\n",
        "\n",
        "CHUNK_SIZE = 40960\n",
        "DATA_SOURCE_MAPPING = 'llm-prompt-recovery:https%3A%2F%2Fstorage.googleapis.com%2Fkaggle-competitions-data%2Fkaggle-v2%2F67121%2F7806901%2Fbundle%2Farchive.zip%3FX-Goog-Algorithm%3DGOOG4-RSA-SHA256%26X-Goog-Credential%3Dgcp-kaggle-com%2540kaggle-161607.iam.gserviceaccount.com%252F20240624%252Fauto%252Fstorage%252Fgoog4_request%26X-Goog-Date%3D20240624T151209Z%26X-Goog-Expires%3D259200%26X-Goog-SignedHeaders%3Dhost%26X-Goog-Signature%3D70aa2e90265a6f2c00bdf47c582a9b204e0ecc56352a2b55b477bc0d711eec990d9b63b4898ba6e602dc264d5c0e6661acfe1a121c0c4ffe45f844cee4857ff35538a9c430e7f1f3c51c3e14f1b5545cbbae8227a98fb9785aedc5c408a38dd1c5cbd49158a05aff9fc806845eb2b196bce2d6e0c5b1f196decc1cca29ee63ecab64bc6239b05a41992eaef3aaf3bfc6e788fd7b7c7c214db982fc4d509420d175db53fbc89545f0143b7a3a5220974d0602b0355fbe16d031fe498ffe95a6c93131df38c5ea5384aa53d0682439a54a82a6d0f9268ba62e5a6b2d04f0a9e7d883d8cb1eefbf12bdeabc3f1433579207b506871ed5124be74f2a069786530563,flan-t5/pytorch/small/2:https%3A%2F%2Fstorage.googleapis.com%2Fkaggle-models-data%2F3046%2F4250%2Fbundle%2Farchive.tar.gz%3FX-Goog-Algorithm%3DGOOG4-RSA-SHA256%26X-Goog-Credential%3Dgcp-kaggle-com%2540kaggle-161607.iam.gserviceaccount.com%252F20240624%252Fauto%252Fstorage%252Fgoog4_request%26X-Goog-Date%3D20240624T151210Z%26X-Goog-Expires%3D259200%26X-Goog-SignedHeaders%3Dhost%26X-Goog-Signature%3D387df6611b5b17e70c4bbbda5852c8db5d6d5e8cd6407fb37efc15a621f51396f7973a0b7e65bbe654f7c22fd6542d8fc1faf7a2908c303e8baebf3bebc5ad33d0693974b8c9182e6a27bf9d794a139e7e9dbad7b854d778634ae161796bac2cbabfb19e953aad320b58fcd588b5e4af7bccd0e7e657e8054b53a9b842ea19c178455266e7792bd2b2da0f534ce19d389aa8c80fd010e9a077a754728d27b25386e35c209a6671f72f0c4740618a26ced34c9a66d4d062bebaf401f52d11faa968725e806df2d43cd1466e85074eb6cd00a2ee2d93356ae13f42005424a4305fb2839c5c49ec0141b6768b2873dafaaa7310185691aeb3c6517c9dfbce27932f,llama-2/pytorch/13b-chat-hf/1:https%3A%2F%2Fstorage.googleapis.com%2Fkaggle-models-data%2F3097%2F4302%2Fbundle%2Farchive.tar.gz%3FX-Goog-Algorithm%3DGOOG4-RSA-SHA256%26X-Goog-Credential%3Dgcp-kaggle-com%2540kaggle-161607.iam.gserviceaccount.com%252F20240624%252Fauto%252Fstorage%252Fgoog4_request%26X-Goog-Date%3D20240624T151210Z%26X-Goog-Expires%3D259200%26X-Goog-SignedHeaders%3Dhost%26X-Goog-Signature%3D52d88b09bbce05f1791abac55f0e6117dcd9c259d8290eb6fcf87fc64b6df1cb541b3c4292c76c30c527e4cbd9b9bea9752aa59dc5156876d192bfca5bc4924e1f83f93899e35318c6ac200ebbbac6403127c8d95a65eb5a094bd38e5ba50c264a09be960f516e0185e1981c9f1304c8f0b9a403ab6fd06cf4993757b241c8612c2f1c7e700969d586803a57aa13f80c810e6389f71f0683fc1e560f378349089b9a052583b485097632ed95f0696b5ee56863b75ef0c2b68157dbddea569227ca7e456bdb4d9bf5770796bc182e62c664f1e2d9cfc58c715cbd1e0d0ce10e0fbf86bda2b4088c735000b24b48306b59de3bb46d963deb72740cefa867db85be'\n",
        "\n",
        "KAGGLE_INPUT_PATH='/kaggle/input'\n",
        "KAGGLE_WORKING_PATH='/kaggle/working'\n",
        "KAGGLE_SYMLINK='kaggle'\n",
        "\n",
        "!umount /kaggle/input/ 2> /dev/null\n",
        "shutil.rmtree('/kaggle/input', ignore_errors=True)\n",
        "os.makedirs(KAGGLE_INPUT_PATH, 0o777, exist_ok=True)\n",
        "os.makedirs(KAGGLE_WORKING_PATH, 0o777, exist_ok=True)\n",
        "\n",
        "try:\n",
        "  os.symlink(KAGGLE_INPUT_PATH, os.path.join(\"..\", 'input'), target_is_directory=True)\n",
        "except FileExistsError:\n",
        "  pass\n",
        "try:\n",
        "  os.symlink(KAGGLE_WORKING_PATH, os.path.join(\"..\", 'working'), target_is_directory=True)\n",
        "except FileExistsError:\n",
        "  pass\n",
        "\n",
        "for data_source_mapping in DATA_SOURCE_MAPPING.split(','):\n",
        "    directory, download_url_encoded = data_source_mapping.split(':')\n",
        "    download_url = unquote(download_url_encoded)\n",
        "    filename = urlparse(download_url).path\n",
        "    destination_path = os.path.join(KAGGLE_INPUT_PATH, directory)\n",
        "    try:\n",
        "        with urlopen(download_url) as fileres, NamedTemporaryFile() as tfile:\n",
        "            total_length = fileres.headers['content-length']\n",
        "            print(f'Downloading {directory}, {total_length} bytes compressed')\n",
        "            dl = 0\n",
        "            data = fileres.read(CHUNK_SIZE)\n",
        "            while len(data) > 0:\n",
        "                dl += len(data)\n",
        "                tfile.write(data)\n",
        "                done = int(50 * dl / int(total_length))\n",
        "                sys.stdout.write(f\"\\r[{'=' * done}{' ' * (50-done)}] {dl} bytes downloaded\")\n",
        "                sys.stdout.flush()\n",
        "                data = fileres.read(CHUNK_SIZE)\n",
        "            if filename.endswith('.zip'):\n",
        "              with ZipFile(tfile) as zfile:\n",
        "                zfile.extractall(destination_path)\n",
        "            else:\n",
        "              with tarfile.open(tfile.name) as tarfile:\n",
        "                tarfile.extractall(destination_path)\n",
        "            print(f'\\nDownloaded and uncompressed: {directory}')\n",
        "    except HTTPError as e:\n",
        "        print(f'Failed to load (likely expired) {download_url} to path {destination_path}')\n",
        "        continue\n",
        "    except OSError as e:\n",
        "        print(f'Failed to load {download_url} to path {destination_path}')\n",
        "        continue\n",
        "\n",
        "print('Data source import complete.')\n"
      ],
      "metadata": {
        "id": "HvRDmiHozgGT"
      },
      "cell_type": "code",
      "outputs": [],
      "execution_count": null
    },
    {
      "cell_type": "code",
      "source": [
        "import pandas as pd\n"
      ],
      "metadata": {
        "_uuid": "8f2839f25d086af736a60e9eeb907d3b93b6e0e5",
        "_cell_guid": "b1076dfc-b9ad-4769-8c92-a6c4dae69d19",
        "execution": {
          "iopub.status.busy": "2024-03-09T14:34:12.572895Z",
          "iopub.execute_input": "2024-03-09T14:34:12.573314Z",
          "iopub.status.idle": "2024-03-09T14:34:13.503274Z",
          "shell.execute_reply.started": "2024-03-09T14:34:12.573284Z",
          "shell.execute_reply": "2024-03-09T14:34:13.502161Z"
        },
        "trusted": true,
        "id": "S3vWNCbVzgGW"
      },
      "execution_count": null,
      "outputs": []
    },
    {
      "cell_type": "code",
      "source": [
        "test = pd.read_csv('/kaggle/input/llm-prompt-recovery/test.csv')"
      ],
      "metadata": {
        "execution": {
          "iopub.status.busy": "2024-03-09T14:58:30.983327Z",
          "iopub.execute_input": "2024-03-09T14:58:30.983795Z",
          "iopub.status.idle": "2024-03-09T14:58:30.994174Z",
          "shell.execute_reply.started": "2024-03-09T14:58:30.983763Z",
          "shell.execute_reply": "2024-03-09T14:58:30.992784Z"
        },
        "trusted": true,
        "id": "zJfyiq2uzgGX"
      },
      "execution_count": null,
      "outputs": []
    },
    {
      "cell_type": "code",
      "source": [
        "from transformers import T5ForConditionalGeneration, T5Tokenizer\n",
        "\n",
        "# Define the directory path where the model and tokenizer are stored\n",
        "model_directory = \"/kaggle/input/flan-t5/pytorch/small/2\"\n",
        "\n",
        "# Load pre-trained T5 model and tokenizer from the local directory\n",
        "tokenizer = T5Tokenizer.from_pretrained(model_directory)\n",
        "model = T5ForConditionalGeneration.from_pretrained(model_directory)\n",
        "\n",
        "question = 'question: provide the form the text has been transformed?'\n",
        "\n",
        "# Define a function to generate prompts and responses\n",
        "def generate_prompts(rewritten_text):\n",
        "    # Define the prompt\n",
        "    prompt = f\"{question}\\n{rewritten_text}\"\n",
        "\n",
        "    # Tokenize the prompt\n",
        "    inputs = tokenizer(prompt, return_tensors=\"pt\")\n",
        "\n",
        "    # Generate response\n",
        "    outputs = model.generate(**inputs)\n",
        "\n",
        "    # Decode the response\n",
        "    response = tokenizer.decode(outputs[0], skip_special_tokens=True)\n",
        "    return response\n",
        "\n",
        "# Generate responses for each text in the 'rewritten_text' column\n",
        "responses = ['improve this text into ' + generate_prompts(text) for text in test['rewritten_text']]\n"
      ],
      "metadata": {
        "execution": {
          "iopub.status.busy": "2024-03-09T15:02:56.48996Z",
          "iopub.execute_input": "2024-03-09T15:02:56.490502Z",
          "iopub.status.idle": "2024-03-09T15:02:57.695845Z",
          "shell.execute_reply.started": "2024-03-09T15:02:56.490463Z",
          "shell.execute_reply": "2024-03-09T15:02:57.693029Z"
        },
        "trusted": true,
        "id": "0eFSY-SozgGX"
      },
      "execution_count": null,
      "outputs": []
    },
    {
      "cell_type": "code",
      "source": [
        "responses"
      ],
      "metadata": {
        "execution": {
          "iopub.status.busy": "2024-03-09T15:03:00.818472Z",
          "iopub.execute_input": "2024-03-09T15:03:00.818975Z",
          "iopub.status.idle": "2024-03-09T15:03:00.831197Z",
          "shell.execute_reply.started": "2024-03-09T15:03:00.818938Z",
          "shell.execute_reply": "2024-03-09T15:03:00.828645Z"
        },
        "trusted": true,
        "id": "HNKyJYmozgGY"
      },
      "execution_count": null,
      "outputs": []
    },
    {
      "cell_type": "code",
      "source": [
        "test['rewritten_text']"
      ],
      "metadata": {
        "execution": {
          "iopub.status.busy": "2024-03-09T14:59:41.788548Z",
          "iopub.execute_input": "2024-03-09T14:59:41.789238Z",
          "iopub.status.idle": "2024-03-09T14:59:41.79968Z",
          "shell.execute_reply.started": "2024-03-09T14:59:41.789195Z",
          "shell.execute_reply": "2024-03-09T14:59:41.798181Z"
        },
        "trusted": true,
        "id": "CRsyR9yGzgGY"
      },
      "execution_count": null,
      "outputs": []
    },
    {
      "cell_type": "code",
      "source": [
        "submission=pd.DataFrame({\n",
        "    'id':test.id,\n",
        "    'rewrite_prompt':responses\n",
        "})"
      ],
      "metadata": {
        "execution": {
          "iopub.status.busy": "2024-03-09T14:49:31.144666Z",
          "iopub.execute_input": "2024-03-09T14:49:31.14518Z",
          "iopub.status.idle": "2024-03-09T14:49:31.155341Z",
          "shell.execute_reply.started": "2024-03-09T14:49:31.145139Z",
          "shell.execute_reply": "2024-03-09T14:49:31.153669Z"
        },
        "trusted": true,
        "id": "V-ONtWdJzgGY"
      },
      "execution_count": null,
      "outputs": []
    },
    {
      "cell_type": "code",
      "source": [
        "submission.to_csv('submission.csv', index=False)\n"
      ],
      "metadata": {
        "execution": {
          "iopub.status.busy": "2024-03-09T13:12:06.352365Z",
          "iopub.execute_input": "2024-03-09T13:12:06.353195Z",
          "iopub.status.idle": "2024-03-09T13:12:07.484655Z",
          "shell.execute_reply.started": "2024-03-09T13:12:06.35316Z",
          "shell.execute_reply": "2024-03-09T13:12:07.483429Z"
        },
        "trusted": true,
        "id": "mUvwJq1RzgGZ"
      },
      "execution_count": null,
      "outputs": []
    }
  ]
}