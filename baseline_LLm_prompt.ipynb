{
  "metadata": {
    "kernelspec": {
      "language": "python",
      "display_name": "Python 3",
      "name": "python3"
    },
    "language_info": {
      "name": "python",
      "version": "3.10.13",
      "mimetype": "text/x-python",
      "codemirror_mode": {
        "name": "ipython",
        "version": 3
      },
      "pygments_lexer": "ipython3",
      "nbconvert_exporter": "python",
      "file_extension": ".py"
    },
    "kaggle": {
      "accelerator": "none",
      "dataSources": [
        {
          "sourceId": 67121,
          "databundleVersionId": 7806901,
          "sourceType": "competition"
        }
      ],
      "dockerImageVersionId": 30664,
      "isInternetEnabled": false,
      "language": "python",
      "sourceType": "notebook",
      "isGpuEnabled": false
    },
    "colab": {
      "name": "baseline LLm prompt",
      "provenance": [],
      "include_colab_link": true
    }
  },
  "nbformat_minor": 0,
  "nbformat": 4,
  "cells": [
    {
      "cell_type": "markdown",
      "metadata": {
        "id": "view-in-github",
        "colab_type": "text"
      },
      "source": [
        "<a href=\"https://colab.research.google.com/github/Rikupro-creator/LLM-prompt-recovery/blob/main/baseline_LLm_prompt.ipynb\" target=\"_parent\"><img src=\"https://colab.research.google.com/assets/colab-badge.svg\" alt=\"Open In Colab\"/></a>"
      ]
    },
    {
      "source": [
        "\n",
        "# IMPORTANT: RUN THIS CELL IN ORDER TO IMPORT YOUR KAGGLE DATA SOURCES\n",
        "# TO THE CORRECT LOCATION (/kaggle/input) IN YOUR NOTEBOOK,\n",
        "# THEN FEEL FREE TO DELETE THIS CELL.\n",
        "# NOTE: THIS NOTEBOOK ENVIRONMENT DIFFERS FROM KAGGLE'S PYTHON\n",
        "# ENVIRONMENT SO THERE MAY BE MISSING LIBRARIES USED BY YOUR\n",
        "# NOTEBOOK.\n",
        "\n",
        "import os\n",
        "import sys\n",
        "from tempfile import NamedTemporaryFile\n",
        "from urllib.request import urlopen\n",
        "from urllib.parse import unquote, urlparse\n",
        "from urllib.error import HTTPError\n",
        "from zipfile import ZipFile\n",
        "import tarfile\n",
        "import shutil\n",
        "\n",
        "CHUNK_SIZE = 40960\n",
        "DATA_SOURCE_MAPPING = 'llm-prompt-recovery:https%3A%2F%2Fstorage.googleapis.com%2Fkaggle-competitions-data%2Fkaggle-v2%2F67121%2F7806901%2Fbundle%2Farchive.zip%3FX-Goog-Algorithm%3DGOOG4-RSA-SHA256%26X-Goog-Credential%3Dgcp-kaggle-com%2540kaggle-161607.iam.gserviceaccount.com%252F20240624%252Fauto%252Fstorage%252Fgoog4_request%26X-Goog-Date%3D20240624T150707Z%26X-Goog-Expires%3D259200%26X-Goog-SignedHeaders%3Dhost%26X-Goog-Signature%3D4aab946b7455838f7f37ddc72aeb6e646a27f6596585862c4c41ac85f0784ab1379e523b4962c20dc39e99cad2f8843171f036ad2dd81e87bbc41e6d7c0fd310f91fabd9a35f216fd335c27d5b929dcd374e7ecfc955244dc32b2ad658c11926e82c74854d3db9f174ecf232f607870859def8366ae491438f91214acddeafebdd7a22644c4eb28c6efbe14fcf8952bf33273d677b797ffcd9c90129f0bea952d36a55d525c41d84cd54a10bed4611a1226d892425a6e04169b074eb068cbbcdcefed4b5e9d8a3a61efcc9e3bae00c2c5ce452e8157b8595bdeda3a8e23d7b91e4d5e033aba106719636bdfb2e370f3f02d2ee524eee20325523c07ab4c3ea5a'\n",
        "\n",
        "KAGGLE_INPUT_PATH='/kaggle/input'\n",
        "KAGGLE_WORKING_PATH='/kaggle/working'\n",
        "KAGGLE_SYMLINK='kaggle'\n",
        "\n",
        "!umount /kaggle/input/ 2> /dev/null\n",
        "shutil.rmtree('/kaggle/input', ignore_errors=True)\n",
        "os.makedirs(KAGGLE_INPUT_PATH, 0o777, exist_ok=True)\n",
        "os.makedirs(KAGGLE_WORKING_PATH, 0o777, exist_ok=True)\n",
        "\n",
        "try:\n",
        "  os.symlink(KAGGLE_INPUT_PATH, os.path.join(\"..\", 'input'), target_is_directory=True)\n",
        "except FileExistsError:\n",
        "  pass\n",
        "try:\n",
        "  os.symlink(KAGGLE_WORKING_PATH, os.path.join(\"..\", 'working'), target_is_directory=True)\n",
        "except FileExistsError:\n",
        "  pass\n",
        "\n",
        "for data_source_mapping in DATA_SOURCE_MAPPING.split(','):\n",
        "    directory, download_url_encoded = data_source_mapping.split(':')\n",
        "    download_url = unquote(download_url_encoded)\n",
        "    filename = urlparse(download_url).path\n",
        "    destination_path = os.path.join(KAGGLE_INPUT_PATH, directory)\n",
        "    try:\n",
        "        with urlopen(download_url) as fileres, NamedTemporaryFile() as tfile:\n",
        "            total_length = fileres.headers['content-length']\n",
        "            print(f'Downloading {directory}, {total_length} bytes compressed')\n",
        "            dl = 0\n",
        "            data = fileres.read(CHUNK_SIZE)\n",
        "            while len(data) > 0:\n",
        "                dl += len(data)\n",
        "                tfile.write(data)\n",
        "                done = int(50 * dl / int(total_length))\n",
        "                sys.stdout.write(f\"\\r[{'=' * done}{' ' * (50-done)}] {dl} bytes downloaded\")\n",
        "                sys.stdout.flush()\n",
        "                data = fileres.read(CHUNK_SIZE)\n",
        "            if filename.endswith('.zip'):\n",
        "              with ZipFile(tfile) as zfile:\n",
        "                zfile.extractall(destination_path)\n",
        "            else:\n",
        "              with tarfile.open(tfile.name) as tarfile:\n",
        "                tarfile.extractall(destination_path)\n",
        "            print(f'\\nDownloaded and uncompressed: {directory}')\n",
        "    except HTTPError as e:\n",
        "        print(f'Failed to load (likely expired) {download_url} to path {destination_path}')\n",
        "        continue\n",
        "    except OSError as e:\n",
        "        print(f'Failed to load {download_url} to path {destination_path}')\n",
        "        continue\n",
        "\n",
        "print('Data source import complete.')\n"
      ],
      "metadata": {
        "id": "VZgBmTDZyWY9"
      },
      "cell_type": "code",
      "outputs": [],
      "execution_count": null
    },
    {
      "cell_type": "code",
      "source": [
        "# LLM prompt model"
      ],
      "metadata": {
        "_uuid": "8f2839f25d086af736a60e9eeb907d3b93b6e0e5",
        "_cell_guid": "b1076dfc-b9ad-4769-8c92-a6c4dae69d19",
        "execution": {
          "iopub.status.busy": "2024-03-02T10:36:00.689722Z",
          "iopub.execute_input": "2024-03-02T10:36:00.690105Z",
          "iopub.status.idle": "2024-03-02T10:36:00.715019Z",
          "shell.execute_reply.started": "2024-03-02T10:36:00.690073Z",
          "shell.execute_reply": "2024-03-02T10:36:00.714126Z"
        },
        "trusted": true,
        "id": "HbYHh5FIyWY_"
      },
      "execution_count": null,
      "outputs": []
    },
    {
      "cell_type": "code",
      "source": [
        "# importing the packages\n",
        "import pandas as pd\n",
        "import numpy as np\n",
        "import matplotlib.pyplot as plt"
      ],
      "metadata": {
        "execution": {
          "iopub.status.busy": "2024-03-03T01:25:51.915053Z",
          "iopub.execute_input": "2024-03-03T01:25:51.915422Z",
          "iopub.status.idle": "2024-03-03T01:25:52.90612Z",
          "shell.execute_reply.started": "2024-03-03T01:25:51.915389Z",
          "shell.execute_reply": "2024-03-03T01:25:52.904937Z"
        },
        "trusted": true,
        "id": "YMzSLkdhyWZA"
      },
      "execution_count": null,
      "outputs": []
    },
    {
      "cell_type": "code",
      "source": [
        "train=pd.read_csv('/kaggle/input/llm-prompt-recovery/train.csv')\n",
        "test=pd.read_csv('/kaggle/input/llm-prompt-recovery/test.csv')"
      ],
      "metadata": {
        "execution": {
          "iopub.status.busy": "2024-03-03T01:33:22.475496Z",
          "iopub.execute_input": "2024-03-03T01:33:22.475819Z",
          "iopub.status.idle": "2024-03-03T01:33:22.496822Z",
          "shell.execute_reply.started": "2024-03-03T01:33:22.475795Z",
          "shell.execute_reply": "2024-03-03T01:33:22.495975Z"
        },
        "trusted": true,
        "id": "H4Gg6aTzyWZA"
      },
      "execution_count": null,
      "outputs": []
    },
    {
      "cell_type": "code",
      "source": [
        "train.head()"
      ],
      "metadata": {
        "execution": {
          "iopub.status.busy": "2024-03-03T01:33:23.406362Z",
          "iopub.execute_input": "2024-03-03T01:33:23.406903Z",
          "iopub.status.idle": "2024-03-03T01:33:23.423564Z",
          "shell.execute_reply.started": "2024-03-03T01:33:23.406873Z",
          "shell.execute_reply": "2024-03-03T01:33:23.421896Z"
        },
        "trusted": true,
        "id": "j00I6kQwyWZB"
      },
      "execution_count": null,
      "outputs": []
    },
    {
      "cell_type": "code",
      "source": [
        "print(train['original_text'])"
      ],
      "metadata": {
        "execution": {
          "iopub.status.busy": "2024-03-03T01:33:24.349989Z",
          "iopub.execute_input": "2024-03-03T01:33:24.350311Z",
          "iopub.status.idle": "2024-03-03T01:33:24.358674Z",
          "shell.execute_reply.started": "2024-03-03T01:33:24.350287Z",
          "shell.execute_reply": "2024-03-03T01:33:24.357231Z"
        },
        "trusted": true,
        "id": "f4bnu_VwyWZB"
      },
      "execution_count": null,
      "outputs": []
    },
    {
      "cell_type": "code",
      "source": [
        "test.head()"
      ],
      "metadata": {
        "execution": {
          "iopub.status.busy": "2024-03-03T01:33:25.165668Z",
          "iopub.execute_input": "2024-03-03T01:33:25.166Z",
          "iopub.status.idle": "2024-03-03T01:33:25.175335Z",
          "shell.execute_reply.started": "2024-03-03T01:33:25.165974Z",
          "shell.execute_reply": "2024-03-03T01:33:25.174371Z"
        },
        "trusted": true,
        "id": "HWlVV7VzyWZB"
      },
      "execution_count": null,
      "outputs": []
    },
    {
      "cell_type": "code",
      "source": [
        "import spacy\n",
        "\n",
        "# Load the English language model provided by spaCy\n",
        "nlp = spacy.load(\"en_core_web_sm\")\n",
        "\n",
        "def get_first_sentence_keywords(paragraph):\n",
        "    # Process the paragraph using spaCy\n",
        "    doc = nlp(paragraph)\n",
        "\n",
        "    # Extract the first sentence\n",
        "    first_sentence = next(doc.sents, None)\n",
        "\n",
        "    if first_sentence is not None:\n",
        "        # Extract keywords from the first sentence\n",
        "        keywords = []\n",
        "        for token in first_sentence:\n",
        "            # Consider only nouns, verbs, adjectives, and named entities\n",
        "            if token.pos_ in [\"NOUN\", \"VERB\", \"ADJ\"] or token.ent_type_:\n",
        "                keywords.append(token.text)\n",
        "        return keywords\n",
        "    else:\n",
        "        return None\n",
        "\n",
        "first_sentence_keywords = get_first_sentence_keywords(test['rewritten_text'][0])\n",
        "print(\"Keywords from the first sentence:\", first_sentence_keywords[0])\n"
      ],
      "metadata": {
        "execution": {
          "iopub.status.busy": "2024-03-03T01:33:25.950421Z",
          "iopub.execute_input": "2024-03-03T01:33:25.95074Z",
          "iopub.status.idle": "2024-03-03T01:33:29.01476Z",
          "shell.execute_reply.started": "2024-03-03T01:33:25.950716Z",
          "shell.execute_reply": "2024-03-03T01:33:29.013393Z"
        },
        "trusted": true,
        "id": "wnRJTszTyWZC"
      },
      "execution_count": null,
      "outputs": []
    },
    {
      "cell_type": "code",
      "source": [
        "example=pd.read_csv('/kaggle/input/llm-prompt-recovery/sample_submission.csv')"
      ],
      "metadata": {
        "execution": {
          "iopub.status.busy": "2024-03-03T01:33:29.016544Z",
          "iopub.execute_input": "2024-03-03T01:33:29.017087Z",
          "iopub.status.idle": "2024-03-03T01:33:29.030767Z",
          "shell.execute_reply.started": "2024-03-03T01:33:29.017058Z",
          "shell.execute_reply": "2024-03-03T01:33:29.029618Z"
        },
        "trusted": true,
        "id": "rjYlCBVHyWZC"
      },
      "execution_count": null,
      "outputs": []
    },
    {
      "cell_type": "code",
      "source": [
        "# Retrieve keywords for each paragraph in test['rewritten_text']\n",
        "keywords = []\n",
        "for paragraph in test['rewritten_text']:\n",
        "    first_sentence_keywords = get_first_sentence_keywords(paragraph)\n",
        "    if first_sentence_keywords:\n",
        "        keywords.append(first_sentence_keywords[0])\n",
        "    else:\n",
        "        keywords.append(\"\")  # If no keywords found, append an empty string\n",
        "\n",
        "# Generate rewritten sentences\n",
        "rewrite = ['rewrite this essay but do it using the writing style of  ' + i if i else \"rewrite this text\" for i in keywords]\n"
      ],
      "metadata": {
        "execution": {
          "iopub.status.busy": "2024-03-03T01:33:29.758562Z",
          "iopub.execute_input": "2024-03-03T01:33:29.758886Z",
          "iopub.status.idle": "2024-03-03T01:33:29.782214Z",
          "shell.execute_reply.started": "2024-03-03T01:33:29.758862Z",
          "shell.execute_reply": "2024-03-03T01:33:29.780955Z"
        },
        "trusted": true,
        "id": "68h07VMxyWZD"
      },
      "execution_count": null,
      "outputs": []
    },
    {
      "cell_type": "code",
      "source": [
        "rewrite"
      ],
      "metadata": {
        "execution": {
          "iopub.status.busy": "2024-03-03T01:33:31.196644Z",
          "iopub.execute_input": "2024-03-03T01:33:31.196971Z",
          "iopub.status.idle": "2024-03-03T01:33:31.202552Z",
          "shell.execute_reply.started": "2024-03-03T01:33:31.196946Z",
          "shell.execute_reply": "2024-03-03T01:33:31.201711Z"
        },
        "trusted": true,
        "id": "G62aY1XWyWZE"
      },
      "execution_count": null,
      "outputs": []
    },
    {
      "cell_type": "code",
      "source": [
        "submission=pd.DataFrame({\n",
        "    'id':test.id,\n",
        "    'rewrite_prompt':rewrite\n",
        "})"
      ],
      "metadata": {
        "execution": {
          "iopub.status.busy": "2024-03-03T01:33:33.389768Z",
          "iopub.execute_input": "2024-03-03T01:33:33.390539Z",
          "iopub.status.idle": "2024-03-03T01:33:33.396246Z",
          "shell.execute_reply.started": "2024-03-03T01:33:33.390495Z",
          "shell.execute_reply": "2024-03-03T01:33:33.394918Z"
        },
        "trusted": true,
        "id": "vLAsDt2KyWZE"
      },
      "execution_count": null,
      "outputs": []
    },
    {
      "cell_type": "code",
      "source": [
        "submission.to_csv('submission.csv', index=False)"
      ],
      "metadata": {
        "execution": {
          "iopub.status.busy": "2024-03-03T01:33:34.446173Z",
          "iopub.execute_input": "2024-03-03T01:33:34.44654Z",
          "iopub.status.idle": "2024-03-03T01:33:34.455734Z",
          "shell.execute_reply.started": "2024-03-03T01:33:34.4465Z",
          "shell.execute_reply": "2024-03-03T01:33:34.454171Z"
        },
        "trusted": true,
        "id": "AjZzKDZJyWZE"
      },
      "execution_count": null,
      "outputs": []
    },
    {
      "cell_type": "code",
      "source": [
        "submission.head()"
      ],
      "metadata": {
        "execution": {
          "iopub.status.busy": "2024-03-03T01:33:35.325587Z",
          "iopub.execute_input": "2024-03-03T01:33:35.325898Z",
          "iopub.status.idle": "2024-03-03T01:33:35.335908Z",
          "shell.execute_reply.started": "2024-03-03T01:33:35.325875Z",
          "shell.execute_reply": "2024-03-03T01:33:35.335059Z"
        },
        "trusted": true,
        "id": "hLmCbApeyWZE"
      },
      "execution_count": null,
      "outputs": []
    },
    {
      "cell_type": "code",
      "source": [],
      "metadata": {
        "id": "ucfdlXCZyWZE"
      },
      "execution_count": null,
      "outputs": []
    }
  ]
}