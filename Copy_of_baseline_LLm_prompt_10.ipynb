{
  "metadata": {
    "kernelspec": {
      "language": "python",
      "display_name": "Python 3",
      "name": "python3"
    },
    "language_info": {
      "name": "python",
      "version": "3.10.13",
      "mimetype": "text/x-python",
      "codemirror_mode": {
        "name": "ipython",
        "version": 3
      },
      "pygments_lexer": "ipython3",
      "nbconvert_exporter": "python",
      "file_extension": ".py"
    },
    "kaggle": {
      "accelerator": "none",
      "dataSources": [
        {
          "sourceId": 67121,
          "databundleVersionId": 7806901,
          "sourceType": "competition"
        },
        {
          "sourceId": 7733314,
          "sourceType": "datasetVersion",
          "datasetId": 4518936
        }
      ],
      "dockerImageVersionId": 30664,
      "isInternetEnabled": false,
      "language": "python",
      "sourceType": "notebook",
      "isGpuEnabled": false
    },
    "colab": {
      "provenance": [],
      "include_colab_link": true
    }
  },
  "nbformat_minor": 0,
  "nbformat": 4,
  "cells": [
    {
      "cell_type": "markdown",
      "metadata": {
        "id": "view-in-github",
        "colab_type": "text"
      },
      "source": [
        "<a href=\"https://colab.research.google.com/github/Rikupro-creator/LLM-prompt-recovery/blob/main/Copy_of_baseline_LLm_prompt_10.ipynb\" target=\"_parent\"><img src=\"https://colab.research.google.com/assets/colab-badge.svg\" alt=\"Open In Colab\"/></a>"
      ]
    },
    {
      "source": [
        "\n",
        "# IMPORTANT: RUN THIS CELL IN ORDER TO IMPORT YOUR KAGGLE DATA SOURCES\n",
        "# TO THE CORRECT LOCATION (/kaggle/input) IN YOUR NOTEBOOK,\n",
        "# THEN FEEL FREE TO DELETE THIS CELL.\n",
        "# NOTE: THIS NOTEBOOK ENVIRONMENT DIFFERS FROM KAGGLE'S PYTHON\n",
        "# ENVIRONMENT SO THERE MAY BE MISSING LIBRARIES USED BY YOUR\n",
        "# NOTEBOOK.\n",
        "\n",
        "import os\n",
        "import sys\n",
        "from tempfile import NamedTemporaryFile\n",
        "from urllib.request import urlopen\n",
        "from urllib.parse import unquote, urlparse\n",
        "from urllib.error import HTTPError\n",
        "from zipfile import ZipFile\n",
        "import tarfile\n",
        "import shutil\n",
        "\n",
        "CHUNK_SIZE = 40960\n",
        "DATA_SOURCE_MAPPING = 'llm-prompt-recovery:https%3A%2F%2Fstorage.googleapis.com%2Fkaggle-competitions-data%2Fkaggle-v2%2F67121%2F7806901%2Fbundle%2Farchive.zip%3FX-Goog-Algorithm%3DGOOG4-RSA-SHA256%26X-Goog-Credential%3Dgcp-kaggle-com%2540kaggle-161607.iam.gserviceaccount.com%252F20240624%252Fauto%252Fstorage%252Fgoog4_request%26X-Goog-Date%3D20240624T150906Z%26X-Goog-Expires%3D259200%26X-Goog-SignedHeaders%3Dhost%26X-Goog-Signature%3D787180bc2983c51c86639eba8d8c5c7bdb7e77d2c836f051174bd8d219bedb0446533b3cf2b61bd9a3190844022cb938a47584f3ee25cd624de3f8b342841ab9afe2dc71d178cdbf4ccd1c2ffcfdcd6a52ac1a4bd3aec4a64880a0deabf0170fc1528f1a228678cb070f817a9f2859f831c9afd478b799f65ae6e722a382d4115765e3cfdc57f61f8b96c3e154cee1cea68c007203b23e21edbd6e5cfe17b3a4d8fb5183358a9cfe1cb552c8151fd51b8cd7dce749541b1649524d8c14d15096631568008d392ff936a9535c78c4140290694206fc355d35ac6a0452674f22acba34a748ac2edcec5356064e8138f4f68884e0f0f8c5e797f2853bb196c216de,3000-rewritten-texts-prompt-recovery-challenge:https%3A%2F%2Fstorage.googleapis.com%2Fkaggle-data-sets%2F4518936%2F7733314%2Fbundle%2Farchive.zip%3FX-Goog-Algorithm%3DGOOG4-RSA-SHA256%26X-Goog-Credential%3Dgcp-kaggle-com%2540kaggle-161607.iam.gserviceaccount.com%252F20240624%252Fauto%252Fstorage%252Fgoog4_request%26X-Goog-Date%3D20240624T150906Z%26X-Goog-Expires%3D259200%26X-Goog-SignedHeaders%3Dhost%26X-Goog-Signature%3D4fd19fef2bcf7ff6ddc8d07856bfbedb116563ecb51a73361d647e961ffd1b2a8b97535c942fc5a0d65df9311f3a3e48631af802eb2abc9908e0d174fa7929b6a56a1a44630285f68b6dbff1094ad73cfcbcb3c2bc55f7284f12739184e0a5c712a276d52c856bf0440706ea4e758e56d19222f08e1a2da28cbf2fe7fe3a87a570c569ecc8e7dbee8b6ccb79fb5cc7c100f61244f231ca9affe96de3ef9f3f029f8dac256ce1e26ba4eb977f5fd7b5aa74f1d7a60e7cbf58439724a5e743b8d9ac9b928754953062b424bc7abc1f32dfe1cd74f0c11b409b65c22d380b4e318224fc46dd2993ef818a0b3034d5cd3708ffa6f2c8c962fceedea9477637605c52'\n",
        "\n",
        "KAGGLE_INPUT_PATH='/kaggle/input'\n",
        "KAGGLE_WORKING_PATH='/kaggle/working'\n",
        "KAGGLE_SYMLINK='kaggle'\n",
        "\n",
        "!umount /kaggle/input/ 2> /dev/null\n",
        "shutil.rmtree('/kaggle/input', ignore_errors=True)\n",
        "os.makedirs(KAGGLE_INPUT_PATH, 0o777, exist_ok=True)\n",
        "os.makedirs(KAGGLE_WORKING_PATH, 0o777, exist_ok=True)\n",
        "\n",
        "try:\n",
        "  os.symlink(KAGGLE_INPUT_PATH, os.path.join(\"..\", 'input'), target_is_directory=True)\n",
        "except FileExistsError:\n",
        "  pass\n",
        "try:\n",
        "  os.symlink(KAGGLE_WORKING_PATH, os.path.join(\"..\", 'working'), target_is_directory=True)\n",
        "except FileExistsError:\n",
        "  pass\n",
        "\n",
        "for data_source_mapping in DATA_SOURCE_MAPPING.split(','):\n",
        "    directory, download_url_encoded = data_source_mapping.split(':')\n",
        "    download_url = unquote(download_url_encoded)\n",
        "    filename = urlparse(download_url).path\n",
        "    destination_path = os.path.join(KAGGLE_INPUT_PATH, directory)\n",
        "    try:\n",
        "        with urlopen(download_url) as fileres, NamedTemporaryFile() as tfile:\n",
        "            total_length = fileres.headers['content-length']\n",
        "            print(f'Downloading {directory}, {total_length} bytes compressed')\n",
        "            dl = 0\n",
        "            data = fileres.read(CHUNK_SIZE)\n",
        "            while len(data) > 0:\n",
        "                dl += len(data)\n",
        "                tfile.write(data)\n",
        "                done = int(50 * dl / int(total_length))\n",
        "                sys.stdout.write(f\"\\r[{'=' * done}{' ' * (50-done)}] {dl} bytes downloaded\")\n",
        "                sys.stdout.flush()\n",
        "                data = fileres.read(CHUNK_SIZE)\n",
        "            if filename.endswith('.zip'):\n",
        "              with ZipFile(tfile) as zfile:\n",
        "                zfile.extractall(destination_path)\n",
        "            else:\n",
        "              with tarfile.open(tfile.name) as tarfile:\n",
        "                tarfile.extractall(destination_path)\n",
        "            print(f'\\nDownloaded and uncompressed: {directory}')\n",
        "    except HTTPError as e:\n",
        "        print(f'Failed to load (likely expired) {download_url} to path {destination_path}')\n",
        "        continue\n",
        "    except OSError as e:\n",
        "        print(f'Failed to load {download_url} to path {destination_path}')\n",
        "        continue\n",
        "\n",
        "print('Data source import complete.')\n"
      ],
      "metadata": {
        "id": "LAEqodiqyzEf"
      },
      "cell_type": "code",
      "outputs": [],
      "execution_count": null
    },
    {
      "cell_type": "code",
      "source": [
        "# LLM prompt model"
      ],
      "metadata": {
        "_uuid": "8f2839f25d086af736a60e9eeb907d3b93b6e0e5",
        "_cell_guid": "b1076dfc-b9ad-4769-8c92-a6c4dae69d19",
        "execution": {
          "iopub.status.busy": "2024-03-02T10:36:00.689722Z",
          "iopub.execute_input": "2024-03-02T10:36:00.690105Z",
          "iopub.status.idle": "2024-03-02T10:36:00.715019Z",
          "shell.execute_reply.started": "2024-03-02T10:36:00.690073Z",
          "shell.execute_reply": "2024-03-02T10:36:00.714126Z"
        },
        "trusted": true,
        "id": "LIJqifBGyzEh"
      },
      "execution_count": null,
      "outputs": []
    },
    {
      "cell_type": "code",
      "source": [
        "# importing the packages\n",
        "import pandas as pd\n",
        "import numpy as np\n",
        "import matplotlib.pyplot as plt\n",
        "from tqdm import tqdm\n"
      ],
      "metadata": {
        "execution": {
          "iopub.status.busy": "2024-03-05T18:49:44.726457Z",
          "iopub.execute_input": "2024-03-05T18:49:44.727757Z",
          "iopub.status.idle": "2024-03-05T18:49:44.733344Z",
          "shell.execute_reply.started": "2024-03-05T18:49:44.727699Z",
          "shell.execute_reply": "2024-03-05T18:49:44.732076Z"
        },
        "trusted": true,
        "id": "VFk5YvWoyzEh"
      },
      "execution_count": null,
      "outputs": []
    },
    {
      "cell_type": "code",
      "source": [
        "train=pd.read_csv('/kaggle/input/llm-prompt-recovery/train.csv')\n",
        "test=pd.read_csv('/kaggle/input/llm-prompt-recovery/test.csv')"
      ],
      "metadata": {
        "execution": {
          "iopub.status.busy": "2024-03-05T18:49:48.253436Z",
          "iopub.execute_input": "2024-03-05T18:49:48.254363Z",
          "iopub.status.idle": "2024-03-05T18:49:48.281519Z",
          "shell.execute_reply.started": "2024-03-05T18:49:48.254312Z",
          "shell.execute_reply": "2024-03-05T18:49:48.280098Z"
        },
        "trusted": true,
        "id": "emcRaTc5yzEi"
      },
      "execution_count": null,
      "outputs": []
    },
    {
      "cell_type": "code",
      "source": [
        "train.head()"
      ],
      "metadata": {
        "execution": {
          "iopub.status.busy": "2024-03-05T18:49:51.146094Z",
          "iopub.execute_input": "2024-03-05T18:49:51.146555Z",
          "iopub.status.idle": "2024-03-05T18:49:51.16995Z",
          "shell.execute_reply.started": "2024-03-05T18:49:51.146523Z",
          "shell.execute_reply": "2024-03-05T18:49:51.168512Z"
        },
        "trusted": true,
        "id": "4XwVsu43yzEi"
      },
      "execution_count": null,
      "outputs": []
    },
    {
      "cell_type": "code",
      "source": [
        "print(train['original_text'])"
      ],
      "metadata": {
        "execution": {
          "iopub.status.busy": "2024-03-05T18:49:54.201767Z",
          "iopub.execute_input": "2024-03-05T18:49:54.202236Z",
          "iopub.status.idle": "2024-03-05T18:49:54.213812Z",
          "shell.execute_reply.started": "2024-03-05T18:49:54.202205Z",
          "shell.execute_reply": "2024-03-05T18:49:54.212224Z"
        },
        "trusted": true,
        "id": "Z1a8f4NMyzEj"
      },
      "execution_count": null,
      "outputs": []
    },
    {
      "cell_type": "code",
      "source": [
        "data=pd.read_csv('/kaggle/input/3000-rewritten-texts-prompt-recovery-challenge/prompts_0_500_wiki_first_para_3000.csv')\n",
        "data.columns"
      ],
      "metadata": {
        "execution": {
          "iopub.status.busy": "2024-03-05T18:49:57.595129Z",
          "iopub.execute_input": "2024-03-05T18:49:57.595611Z",
          "iopub.status.idle": "2024-03-05T18:49:57.716284Z",
          "shell.execute_reply.started": "2024-03-05T18:49:57.595574Z",
          "shell.execute_reply": "2024-03-05T18:49:57.71507Z"
        },
        "trusted": true,
        "id": "kfGUgOFhyzEj"
      },
      "execution_count": null,
      "outputs": []
    },
    {
      "cell_type": "code",
      "source": [
        "def extract_keywords(sentence):\n",
        "    # Load the English tokenizer, tagger, parser, NER, and word vectors\n",
        "    nlp = spacy.load(\"en_core_web_sm\")\n",
        "    # Process the sentence using spaCy\n",
        "    doc = nlp(sentence)\n",
        "\n",
        "    # Initialize lists to store keywords and keyword phrases\n",
        "    keywords = []\n",
        "    keyword_phrases = []\n",
        "\n",
        "    for chunk in doc.noun_chunks:\n",
        "        if len(chunk) == 1:\n",
        "            token = chunk[0]\n",
        "            if token.pos_ in [\"NOUN\", \"VERB\", \"ADJ\"] or token.ent_type_:\n",
        "                keywords.append(token.text)\n",
        "\n",
        "    return keywords"
      ],
      "metadata": {
        "execution": {
          "iopub.status.busy": "2024-03-05T18:49:59.714601Z",
          "iopub.execute_input": "2024-03-05T18:49:59.715915Z",
          "iopub.status.idle": "2024-03-05T18:49:59.724797Z",
          "shell.execute_reply.started": "2024-03-05T18:49:59.715862Z",
          "shell.execute_reply": "2024-03-05T18:49:59.723207Z"
        },
        "trusted": true,
        "id": "HnZojiUAyzEj"
      },
      "execution_count": null,
      "outputs": []
    },
    {
      "cell_type": "code",
      "source": [
        "import spacy\n",
        "import string\n",
        "import re\n",
        "from nltk import tokenize\n",
        "\n",
        "# Load English tokenizer, tagger, parser, NER, and word vectors\n",
        "nlp = spacy.load(\"en_core_web_sm\")\n",
        "\n",
        "def remove_punctuation(text):\n",
        "    res = re.sub(r'[^\\w\\s]', '', str(text))\n",
        "    return res\n",
        "def remove_prep_art(text):\n",
        "    # Remove prepositions and articles\n",
        "    doc = nlp(text)\n",
        "    tokens = [token.text for token in doc if token.pos_ not in ['DET', 'ADP']]\n",
        "    return ' '.join(tokens)\n",
        "def get_first_sentence(paragraph):\n",
        "    # Split the paragraph into sentences\n",
        "    doc = nlp(paragraph)\n",
        "\n",
        "    # Extract the first sentence\n",
        "    for sentence in doc.sents:\n",
        "        sentence = sentence.text.strip()\n",
        "        if sentence:\n",
        "            # Check if the sentence is enquoted\n",
        "            if sentence.startswith(\"**\") and sentence.endswith(\"**\"):\n",
        "                delimiters = \",:;'\"\n",
        "                for char in delimiters:\n",
        "                    if char in sentence:\n",
        "                        return remove_punctuation(sentence)\n",
        "            elif sentence.startswith(\"##\"):\n",
        "                sentence_parts = re.split(r'[{}]+'.format(string.punctuation.replace(\"'\", '')), sentence)\n",
        "                sentence_parts = [part.strip() for part in sentence_parts if part.strip()]\n",
        "                return sentence_parts[0]\n",
        "            elif sentence.startswith(\"Sure, here's\"):\n",
        "                sentence = sentence[len(\"Sure, here's\"):].strip()\n",
        "                words = ['transformed', 'converted', 'rewritten', 'transform', 'convert', 'rewrite']\n",
        "                for word in words:\n",
        "                    if word in sentence:\n",
        "                        index = sentence.find(word)\n",
        "                        content = sentence[index + len(word):].strip()\n",
        "                        # Remove prepositions and articles after the keyword\n",
        "                        return remove_prep_art(content)\n",
        "            else:\n",
        "                # Extract statements before the first colon or comma\n",
        "                parts = re.split(r'[:;]', sentence)\n",
        "                statement = parts[0].strip() if len(parts) > 1 else sentence\n",
        "                parts = re.split(r'[.:]', statement)\n",
        "                return remove_punctuation(extract_keywords(parts[0].strip()))\n",
        "    return None\n",
        "\n",
        "# Example usage\n",
        "first_sentence = get_first_sentence(data['rewritten_text'][4])\n",
        "print(\"First sentence:\", first_sentence)\n"
      ],
      "metadata": {
        "execution": {
          "iopub.status.busy": "2024-03-05T19:17:31.921756Z",
          "iopub.execute_input": "2024-03-05T19:17:31.922263Z",
          "iopub.status.idle": "2024-03-05T19:17:34.500591Z",
          "shell.execute_reply.started": "2024-03-05T19:17:31.922229Z",
          "shell.execute_reply": "2024-03-05T19:17:34.498912Z"
        },
        "trusted": true,
        "id": "e6IXJiCpyzEk"
      },
      "execution_count": null,
      "outputs": []
    },
    {
      "cell_type": "code",
      "source": [
        "remove_punctuation('**JHklsggf')"
      ],
      "metadata": {
        "execution": {
          "iopub.status.busy": "2024-03-05T19:17:48.304357Z",
          "iopub.execute_input": "2024-03-05T19:17:48.305215Z",
          "iopub.status.idle": "2024-03-05T19:17:48.313648Z",
          "shell.execute_reply.started": "2024-03-05T19:17:48.305177Z",
          "shell.execute_reply": "2024-03-05T19:17:48.31238Z"
        },
        "trusted": true,
        "id": "6HABsEuNyzEk"
      },
      "execution_count": null,
      "outputs": []
    },
    {
      "cell_type": "code",
      "source": [
        "example=pd.read_csv('/kaggle/input/llm-prompt-recovery/sample_submission.csv')"
      ],
      "metadata": {
        "execution": {
          "iopub.status.busy": "2024-03-05T19:17:49.185265Z",
          "iopub.execute_input": "2024-03-05T19:17:49.185754Z",
          "iopub.status.idle": "2024-03-05T19:17:49.196166Z",
          "shell.execute_reply.started": "2024-03-05T19:17:49.185708Z",
          "shell.execute_reply": "2024-03-05T19:17:49.194513Z"
        },
        "trusted": true,
        "id": "O-qg7BSAyzEl"
      },
      "execution_count": null,
      "outputs": []
    },
    {
      "cell_type": "code",
      "source": [
        "p=data['rewritten_text'][18]\n",
        "\n"
      ],
      "metadata": {
        "execution": {
          "iopub.status.busy": "2024-03-05T19:17:49.983481Z",
          "iopub.execute_input": "2024-03-05T19:17:49.984333Z",
          "iopub.status.idle": "2024-03-05T19:17:49.990561Z",
          "shell.execute_reply.started": "2024-03-05T19:17:49.984293Z",
          "shell.execute_reply": "2024-03-05T19:17:49.988864Z"
        },
        "trusted": true,
        "id": "V8mSzjmJyzEl"
      },
      "execution_count": null,
      "outputs": []
    },
    {
      "cell_type": "code",
      "source": [
        "# Retrieve keywords for each paragraph in test['rewritten_text']\n",
        "keywords = []\n",
        "for paragraph in tqdm(test['rewritten_text']):\n",
        "    first_sentence_keywords = get_first_sentence(paragraph)\n",
        "    print(first_sentence)\n",
        "    if first_sentence_keywords:\n",
        "        keywords.append(first_sentence_keywords)\n",
        "    else:\n",
        "        keywords.append(\"\")  # If no keywords found, append an empty string\n",
        "\n",
        "# Generate rewritten sentences\n",
        "rewrite = ['rewrite this essay using the style ' + i if i else \"rewrite this text\" for i in keywords]\n"
      ],
      "metadata": {
        "execution": {
          "iopub.status.busy": "2024-03-05T19:17:50.881336Z",
          "iopub.execute_input": "2024-03-05T19:17:50.881866Z",
          "iopub.status.idle": "2024-03-05T19:17:52.271069Z",
          "shell.execute_reply.started": "2024-03-05T19:17:50.881828Z",
          "shell.execute_reply": "2024-03-05T19:17:52.269707Z"
        },
        "trusted": true,
        "id": "dq0akYBVyzEl"
      },
      "execution_count": null,
      "outputs": []
    },
    {
      "cell_type": "code",
      "source": [
        "rewrite"
      ],
      "metadata": {
        "execution": {
          "iopub.status.busy": "2024-03-05T19:18:03.932511Z",
          "iopub.execute_input": "2024-03-05T19:18:03.933031Z",
          "iopub.status.idle": "2024-03-05T19:18:03.941595Z",
          "shell.execute_reply.started": "2024-03-05T19:18:03.932995Z",
          "shell.execute_reply": "2024-03-05T19:18:03.94003Z"
        },
        "trusted": true,
        "id": "rxqAqTXxyzEl"
      },
      "execution_count": null,
      "outputs": []
    },
    {
      "cell_type": "code",
      "source": [
        "test['rewritten_text']"
      ],
      "metadata": {
        "execution": {
          "iopub.status.busy": "2024-03-05T19:18:35.691932Z",
          "iopub.execute_input": "2024-03-05T19:18:35.692455Z",
          "iopub.status.idle": "2024-03-05T19:18:35.703154Z",
          "shell.execute_reply.started": "2024-03-05T19:18:35.692418Z",
          "shell.execute_reply": "2024-03-05T19:18:35.701798Z"
        },
        "trusted": true,
        "id": "0RWatXCpyzEm"
      },
      "execution_count": null,
      "outputs": []
    },
    {
      "cell_type": "code",
      "source": [
        "submission=pd.DataFrame({\n",
        "    'id':test.id,\n",
        "    'rewrite_prompt':rewrite\n",
        "})"
      ],
      "metadata": {
        "execution": {
          "iopub.status.busy": "2024-03-05T19:18:39.194056Z",
          "iopub.execute_input": "2024-03-05T19:18:39.194521Z",
          "iopub.status.idle": "2024-03-05T19:18:39.202627Z",
          "shell.execute_reply.started": "2024-03-05T19:18:39.194491Z",
          "shell.execute_reply": "2024-03-05T19:18:39.200769Z"
        },
        "trusted": true,
        "id": "vZ7YLuk_yzEm"
      },
      "execution_count": null,
      "outputs": []
    },
    {
      "cell_type": "code",
      "source": [
        "submission.to_csv('submission.csv', index=False)"
      ],
      "metadata": {
        "execution": {
          "iopub.status.busy": "2024-03-05T19:18:41.497107Z",
          "iopub.execute_input": "2024-03-05T19:18:41.497568Z",
          "iopub.status.idle": "2024-03-05T19:18:41.511006Z",
          "shell.execute_reply.started": "2024-03-05T19:18:41.497537Z",
          "shell.execute_reply": "2024-03-05T19:18:41.509377Z"
        },
        "trusted": true,
        "id": "q-R5C8CMyzEm"
      },
      "execution_count": null,
      "outputs": []
    },
    {
      "cell_type": "code",
      "source": [
        "submission.head()"
      ],
      "metadata": {
        "execution": {
          "iopub.status.busy": "2024-03-03T01:33:35.325587Z",
          "iopub.execute_input": "2024-03-03T01:33:35.325898Z",
          "iopub.status.idle": "2024-03-03T01:33:35.335908Z",
          "shell.execute_reply.started": "2024-03-03T01:33:35.325875Z",
          "shell.execute_reply": "2024-03-03T01:33:35.335059Z"
        },
        "trusted": true,
        "id": "VUQWiiUMyzEm"
      },
      "execution_count": null,
      "outputs": []
    },
    {
      "cell_type": "code",
      "source": [],
      "metadata": {
        "id": "Ushv2JtmyzEm"
      },
      "execution_count": null,
      "outputs": []
    }
  ]
}